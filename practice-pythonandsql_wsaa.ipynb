{
 "cells": [
  {
   "cell_type": "markdown",
   "metadata": {},
   "source": [
    "## Start the server\n",
    "````\n",
    "C:\\Users\\oconnora\\mysql-9.2.0-winx64\\bin\n",
    "λ mysqld --initialize-insecure --user=mysql\n",
    "\n",
    "C:\\Users\\oconnora\\mysql-9.2.0-winx64\\bin\n",
    "λ mysqld --console\n",
    "````\n",
    "\n",
    "## Importing a database\n",
    "````\n",
    "C:\\Users\\oconnora\\mysql-9.2.0-winx64\\bin\n",
    "mysql -u root\n",
    "\n",
    "mysql> CREATE DATABASE hospital;\n",
    "mysql> show databases;\n",
    "+--------------------+\n",
    "| Database           |\n",
    "+--------------------+\n",
    "| hospital           |\n",
    "| information_schema |\n",
    "| mysql              |\n",
    "| performance_schema |\n",
    "| school             |\n",
    "| sys                |\n",
    "| wsaa               |\n",
    "+--------------------+\n",
    "7 rows in set (0.00 sec)\n",
    "\n",
    "mysql> \\q\n",
    "Bye\n",
    "\n",
    "C:\\Users\\oconnora\\mysql-9.2.0-winx64\\bin\n",
    "λ mysql -u root -p hospital < \"C:\\Users\\oconnora\\Downloads\\hospital.sql\"\n",
    "\n",
    "````"
   ]
  },
  {
   "cell_type": "code",
   "execution_count": 1,
   "metadata": {},
   "outputs": [],
   "source": [
    "import mysql.connector"
   ]
  },
  {
   "cell_type": "code",
   "execution_count": 2,
   "metadata": {},
   "outputs": [
    {
     "name": "stdout",
     "output_type": "stream",
     "text": [
      "[('hospital',), ('information_schema',), ('lab1',), ('mysql',), ('performance_schema',), ('school',), ('sys',), ('wsaa',)]\n"
     ]
    }
   ],
   "source": [
    "#CREATE\n",
    "conn = mysql.connector.connect(\n",
    "    host=\"localhost\",\n",
    "    user=\"root\",\n",
    "    password=\"\"\n",
    ")\n",
    "cursor=conn.cursor()\n",
    "query = \"SHOW DATABASES\"\n",
    "cursor.execute(query)\n",
    "databases = cursor.fetchall()\n",
    "print(databases)"
   ]
  },
  {
   "cell_type": "code",
   "execution_count": 3,
   "metadata": {},
   "outputs": [
    {
     "name": "stdout",
     "output_type": "stream",
     "text": [
      "('car',)\n",
      "[('05-MO-17931', 'Toyota', 'Highlander', 'Green', 253789, 1.6), ('10-G-2334', 'Toyota', 'Corolla', 'Green', 123389, 1.3), ('10-WH-17931', 'Toyota', 'Corolla', 'Silver', 130389, 1.4), ('11-MO-23431', 'Toyota', 'Corolla', 'Black', 1234123, 1.3), ('12-WH-123', 'Ford', 'Ka', 'Black', 125882, 1.0), ('132-G-9923', 'Ford', 'Ka', 'Silver', 325883, 1.0), ('132-MO-19323', 'Ford', 'Galaxy', 'Silver', 2343, 1.5), ('171-G-39532', 'Toyota', 'Corolla', 'Silver', 55882, 1.3), ('171-MO-12533', 'Ford', 'Fiesta', 'Black', 25882, 1.0), ('99-G-300', 'Toyota', 'Corolla', 'Green', 599339, 1.3)]\n",
      "('person',)\n",
      "[(1, 'John', 23, 'M', datetime.date(2000, 1, 1), 1), (2, 'Tom', 64, 'M', datetime.date(1958, 3, 11), 0), (3, 'Mary', 12, 'F', datetime.date(2005, 4, 11), 1), (4, 'Alan', 12, 'M', datetime.date(2005, 11, 21), 1), (5, 'Pat', 29, 'M', datetime.date(1993, 3, 17), 0), (6, 'Shane', 40, 'M', datetime.date(1988, 7, 21), 0), (7, 'Shane', 14, 'M', datetime.date(2003, 6, 1), 1), (8, 'Alice', 24, 'F', datetime.date(1999, 3, 1), 1), (9, 'Pat', 37, 'F', datetime.date(1988, 4, 15), 0)]\n"
     ]
    }
   ],
   "source": [
    "#CREATE\n",
    "conn = mysql.connector.connect(\n",
    "    host=\"localhost\",\n",
    "    user=\"root\",\n",
    "    password=\"\",\n",
    "    database=\"lab1\"\n",
    ")\n",
    "\n",
    "cursor=conn.cursor()\n",
    "\n",
    "cursor.execute(\"SHOW TABLES\")\n",
    "tables = cursor.fetchall()\n",
    "\n",
    "for table in tables:\n",
    "    table_name = table[0]\n",
    "    select_query = f\"SELECT * FROM {table_name}\"\n",
    "    cursor.execute(select_query)\n",
    "    print(table)\n",
    "    print(cursor.fetchall())"
   ]
  },
  {
   "cell_type": "code",
   "execution_count": 7,
   "metadata": {},
   "outputs": [
    {
     "name": "stdout",
     "output_type": "stream",
     "text": [
      "Connected: True\n"
     ]
    },
    {
     "data": {
      "text/plain": [
       "[('05-MO-17931', 'Toyota', 'Highlander', 'Green', 253789, 1.6)]"
      ]
     },
     "execution_count": 7,
     "metadata": {},
     "output_type": "execute_result"
    }
   ],
   "source": [
    "conn = mysql.connector.connect(\n",
    "    host=\"localhost\",\n",
    "    user=\"root\",\n",
    "    password=\"\",\n",
    "    database=\"lab1\"\n",
    ")\n",
    "\n",
    "cursor=conn.cursor()\n",
    "print(\"Connected:\", conn.is_connected())  # Should be True\n",
    "\n",
    "car_reg = input(\"What registration is your car? \")\n",
    "\n",
    "query = \"SELECT * FROM CAR WHERE registration = %s\"\n",
    "cursor.execute(query, (car_reg,))\n",
    "cursor.fetchall()"
   ]
  },
  {
   "cell_type": "code",
   "execution_count": 10,
   "metadata": {},
   "outputs": [
    {
     "data": {
      "text/plain": [
       "[('05-MO-17931', 'Toyota', 'Highlander', 'Green', 253789, 1.6),\n",
       " ('10-G-2334', 'Toyota', 'Corolla', 'Green', 123389, 1.3),\n",
       " ('99-G-300', 'Toyota', 'Corolla', 'Green', 599339, 1.3)]"
      ]
     },
     "execution_count": 10,
     "metadata": {},
     "output_type": "execute_result"
    }
   ],
   "source": [
    "conn = mysql.connector.connect(\n",
    "    host=\"localhost\",\n",
    "    user=\"root\",\n",
    "    password=\"\",\n",
    "    database=\"lab1\"\n",
    ")\n",
    "\n",
    "cursor=conn.cursor()\n",
    "\n",
    "car_colour = input(\"What colour is your car? \")\n",
    "\n",
    "query = \"SELECT * FROM car WHERE colour = %s\"\n",
    "\n",
    "cursor.execute(query, (car_colour,))\n",
    "cursor.fetchall()"
   ]
  },
  {
   "cell_type": "code",
   "execution_count": 11,
   "metadata": {},
   "outputs": [
    {
     "data": {
      "text/plain": [
       "[{'registration': '05-MO-17931',\n",
       "  'make': 'Toyota',\n",
       "  'model': 'Highlander',\n",
       "  'colour': 'Green',\n",
       "  'mileage': 253789,\n",
       "  'engineSize': 1.6}]"
      ]
     },
     "execution_count": 11,
     "metadata": {},
     "output_type": "execute_result"
    }
   ],
   "source": [
    "import car_dao_wsaa\n",
    "car_dao_wsaa.get_car_by_reg(\"05-MO-17931\")"
   ]
  },
  {
   "cell_type": "code",
   "execution_count": 10,
   "metadata": {},
   "outputs": [
    {
     "data": {
      "text/plain": [
       "<module 'car_dao_wsaa' from 'c:\\\\Users\\\\oconnora\\\\Desktop\\\\compsci_data_analytics_hdip\\\\semester_3\\\\WSAA\\\\WSAA-project\\\\car_dao_wsaa.py'>"
      ]
     },
     "execution_count": 10,
     "metadata": {},
     "output_type": "execute_result"
    }
   ],
   "source": [
    "import importlib\n",
    "importlib.reload(car_dao_wsaa)"
   ]
  },
  {
   "cell_type": "code",
   "execution_count": 7,
   "metadata": {},
   "outputs": [
    {
     "data": {
      "text/plain": [
       "'Car added successfully'"
      ]
     },
     "execution_count": 7,
     "metadata": {},
     "output_type": "execute_result"
    }
   ],
   "source": [
    "car_dao_wsaa.add_car(\"03-D-80248\", \"Renault\", \"Clio\",\"Red\",\"69000\",1.2)"
   ]
  },
  {
   "cell_type": "code",
   "execution_count": 9,
   "metadata": {},
   "outputs": [
    {
     "data": {
      "text/plain": [
       "[{'registration': '03-D-80248',\n",
       "  'make': 'Renault',\n",
       "  'model': 'Clio',\n",
       "  'colour': 'Red',\n",
       "  'mileage': 69000,\n",
       "  'engineSize': 1.2},\n",
       " {'registration': '05-MO-17931',\n",
       "  'make': 'Toyota',\n",
       "  'model': 'Highlander',\n",
       "  'colour': 'Green',\n",
       "  'mileage': 253789,\n",
       "  'engineSize': 1.6},\n",
       " {'registration': '10-G-2334',\n",
       "  'make': 'Toyota',\n",
       "  'model': 'Corolla',\n",
       "  'colour': 'Green',\n",
       "  'mileage': 123389,\n",
       "  'engineSize': 1.3},\n",
       " {'registration': '10-WH-17931',\n",
       "  'make': 'Toyota',\n",
       "  'model': 'Corolla',\n",
       "  'colour': 'Silver',\n",
       "  'mileage': 130389,\n",
       "  'engineSize': 1.4},\n",
       " {'registration': '11-MO-23431',\n",
       "  'make': 'Toyota',\n",
       "  'model': 'Corolla',\n",
       "  'colour': 'Black',\n",
       "  'mileage': 1234123,\n",
       "  'engineSize': 1.3},\n",
       " {'registration': '12-WH-123',\n",
       "  'make': 'Ford',\n",
       "  'model': 'Ka',\n",
       "  'colour': 'Black',\n",
       "  'mileage': 125882,\n",
       "  'engineSize': 1.0},\n",
       " {'registration': '132-G-9923',\n",
       "  'make': 'Ford',\n",
       "  'model': 'Ka',\n",
       "  'colour': 'Silver',\n",
       "  'mileage': 325883,\n",
       "  'engineSize': 1.0},\n",
       " {'registration': '132-MO-19323',\n",
       "  'make': 'Ford',\n",
       "  'model': 'Galaxy',\n",
       "  'colour': 'Silver',\n",
       "  'mileage': 2343,\n",
       "  'engineSize': 1.5},\n",
       " {'registration': '171-G-39532',\n",
       "  'make': 'Toyota',\n",
       "  'model': 'Corolla',\n",
       "  'colour': 'Silver',\n",
       "  'mileage': 55882,\n",
       "  'engineSize': 1.3},\n",
       " {'registration': '171-MO-12533',\n",
       "  'make': 'Ford',\n",
       "  'model': 'Fiesta',\n",
       "  'colour': 'Black',\n",
       "  'mileage': 25882,\n",
       "  'engineSize': 1.0},\n",
       " {'registration': '99-G-300',\n",
       "  'make': 'Toyota',\n",
       "  'model': 'Corolla',\n",
       "  'colour': 'Green',\n",
       "  'mileage': 599339,\n",
       "  'engineSize': 1.3}]"
      ]
     },
     "execution_count": 9,
     "metadata": {},
     "output_type": "execute_result"
    }
   ],
   "source": [
    "car_dao_wsaa.get_all_cars()"
   ]
  }
 ],
 "metadata": {
  "kernelspec": {
   "display_name": "base",
   "language": "python",
   "name": "python3"
  },
  "language_info": {
   "codemirror_mode": {
    "name": "ipython",
    "version": 3
   },
   "file_extension": ".py",
   "mimetype": "text/x-python",
   "name": "python",
   "nbconvert_exporter": "python",
   "pygments_lexer": "ipython3",
   "version": "3.12.4"
  }
 },
 "nbformat": 4,
 "nbformat_minor": 2
}
