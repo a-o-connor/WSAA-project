{
 "cells": [
  {
   "cell_type": "markdown",
   "metadata": {},
   "source": [
    "## Start the server\n",
    "````\n",
    "C:\\Users\\oconnora\\mysql-9.2.0-winx64\\bin\n",
    "λ mysqld --initialize-insecure --user=mysql\n",
    "\n",
    "C:\\Users\\oconnora\\mysql-9.2.0-winx64\\bin\n",
    "λ mysqld --console\n",
    "````\n",
    "\n",
    "## Importing a database\n",
    "````\n",
    "C:\\Users\\oconnora\\mysql-9.2.0-winx64\\bin\n",
    "mysql -u root\n",
    "\n",
    "mysql> CREATE DATABASE hospital;\n",
    "mysql> show databases;\n",
    "+--------------------+\n",
    "| Database           |\n",
    "+--------------------+\n",
    "| hospital           |\n",
    "| information_schema |\n",
    "| mysql              |\n",
    "| performance_schema |\n",
    "| school             |\n",
    "| sys                |\n",
    "| wsaa               |\n",
    "+--------------------+\n",
    "7 rows in set (0.00 sec)\n",
    "\n",
    "mysql> \\q\n",
    "Bye\n",
    "\n",
    "C:\\Users\\oconnora\\mysql-9.2.0-winx64\\bin\n",
    "λ mysql -u root -p hospital < \"C:\\Users\\oconnora\\Downloads\\hospital.sql\"\n",
    "\n",
    "````"
   ]
  },
  {
   "cell_type": "code",
   "execution_count": null,
   "metadata": {},
   "outputs": [],
   "source": [
    "url = \"https://ws.cso.ie/public/api.restful/PxStat.Data.Cube_API.ReadDataset/DOTM05/JSON-stat/2.0/en\"\n"
   ]
  },
  {
   "cell_type": "code",
   "execution_count": 1,
   "metadata": {},
   "outputs": [],
   "source": [
    "import car_dao_wsaa"
   ]
  },
  {
   "cell_type": "code",
   "execution_count": 3,
   "metadata": {},
   "outputs": [
    {
     "data": {
      "text/plain": [
       "'Car added successfully'"
      ]
     },
     "execution_count": 3,
     "metadata": {},
     "output_type": "execute_result"
    }
   ],
   "source": [
    "car = {\n",
    "  'registration': '121-LH-890756',\n",
    "  'make': 'Audi',\n",
    "  'model': 'A8',\n",
    "  'colour': 'Navy',\n",
    "  'mileage': 259989,\n",
    "  'engineSize': 1.6\n",
    "  }\n",
    "\n",
    "car_dao_wsaa.add_car(car)"
   ]
  },
  {
   "cell_type": "code",
   "execution_count": 4,
   "metadata": {},
   "outputs": [
    {
     "data": {
      "text/plain": [
       "'Car updated successfully'"
      ]
     },
     "execution_count": 4,
     "metadata": {},
     "output_type": "execute_result"
    }
   ],
   "source": [
    "car = {\n",
    "  'registration': '09-D-86793',\n",
    "  'make': 'Skoda',\n",
    "  'model': 'Kodiak',\n",
    "  'colour': 'Pink',\n",
    "  'mileage': 259989,\n",
    "  'engineSize': 1.6\n",
    "  }\n",
    "\n",
    "car_dao_wsaa.update_car(car)"
   ]
  },
  {
   "cell_type": "code",
   "execution_count": 6,
   "metadata": {},
   "outputs": [
    {
     "name": "stdout",
     "output_type": "stream",
     "text": [
      "GET 12-MO-23431 request returns: [\n",
      "  {\n",
      "    \"colour\": \"Green\",\n",
      "    \"engineSize\": 1.6,\n",
      "    \"make\": \"Toyota\",\n",
      "    \"mileage\": 253789,\n",
      "    \"model\": \"Highlander\",\n",
      "    \"registration\": \"05-MO-17931\"\n",
      "  }\n",
      "]\n",
      "\n"
     ]
    }
   ],
   "source": [
    "#Run this cell while server_cars is running\n",
    "import requests\n",
    "\n",
    "response_get_reg = requests.get(\"http://127.0.0.1:5000/cars/05-MO-17931\")\n",
    "print(f\"GET 12-MO-23431 request returns: {response_get_reg.text}\")"
   ]
  },
  {
   "cell_type": "code",
   "execution_count": 19,
   "metadata": {},
   "outputs": [
    {
     "data": {
      "text/plain": [
       "[{'registration': '03-D-80248',\n",
       "  'make': 'Renault',\n",
       "  'model': 'Clio',\n",
       "  'colour': 'Red',\n",
       "  'mileage': 69000,\n",
       "  'engineSize': 1.2},\n",
       " {'registration': '05-MO-17931',\n",
       "  'make': 'Toyota',\n",
       "  'model': 'Highlander',\n",
       "  'colour': 'Green',\n",
       "  'mileage': 253789,\n",
       "  'engineSize': 1.6},\n",
       " {'registration': '05-WH-89101',\n",
       "  'make': 'Mercedes',\n",
       "  'model': 'W124',\n",
       "  'colour': 'Blue',\n",
       "  'mileage': 12456,\n",
       "  'engineSize': 2.0},\n",
       " {'registration': '09-D-86793',\n",
       "  'make': 'Skoda',\n",
       "  'model': 'Kodiak',\n",
       "  'colour': 'Pink',\n",
       "  'mileage': 259989,\n",
       "  'engineSize': 1.6},\n",
       " {'registration': '10-G-2334',\n",
       "  'make': 'Toyota',\n",
       "  'model': 'Corolla',\n",
       "  'colour': 'Green',\n",
       "  'mileage': 123389,\n",
       "  'engineSize': 1.3},\n",
       " {'registration': '10-WH-17931',\n",
       "  'make': 'Toyota',\n",
       "  'model': 'Corolla',\n",
       "  'colour': 'Silver',\n",
       "  'mileage': 130389,\n",
       "  'engineSize': 1.4},\n",
       " {'registration': '11-MO-23431',\n",
       "  'make': 'Toyota',\n",
       "  'model': 'Corolla',\n",
       "  'colour': 'Black',\n",
       "  'mileage': 1234123,\n",
       "  'engineSize': 1.3},\n",
       " {'registration': '12-WH-123',\n",
       "  'make': 'Ford',\n",
       "  'model': 'Ka',\n",
       "  'colour': 'Black',\n",
       "  'mileage': 125882,\n",
       "  'engineSize': 1.0},\n",
       " {'registration': '121-LH-890756',\n",
       "  'make': 'Audi',\n",
       "  'model': 'A8',\n",
       "  'colour': 'Navy',\n",
       "  'mileage': 259989,\n",
       "  'engineSize': 1.6},\n",
       " {'registration': '121-LM-17933',\n",
       "  'make': 'Ford',\n",
       "  'model': 'Mondeo',\n",
       "  'colour': 'Blue',\n",
       "  'mileage': 253789,\n",
       "  'engineSize': 1.6},\n",
       " {'registration': '132-G-9923',\n",
       "  'make': 'Ford',\n",
       "  'model': 'Ka',\n",
       "  'colour': 'Silver',\n",
       "  'mileage': 325883,\n",
       "  'engineSize': 1.0},\n",
       " {'registration': '132-MO-19323',\n",
       "  'make': 'Ford',\n",
       "  'model': 'Galaxy',\n",
       "  'colour': 'Silver',\n",
       "  'mileage': 2343,\n",
       "  'engineSize': 1.5},\n",
       " {'registration': '171-G-39532',\n",
       "  'make': 'Toyota',\n",
       "  'model': 'Corolla',\n",
       "  'colour': 'Silver',\n",
       "  'mileage': 55882,\n",
       "  'engineSize': 1.3},\n",
       " {'registration': '171-MO-12533',\n",
       "  'make': 'Ford',\n",
       "  'model': 'Fiesta',\n",
       "  'colour': 'Black',\n",
       "  'mileage': 25882,\n",
       "  'engineSize': 1.0},\n",
       " {'registration': '99-G-300',\n",
       "  'make': 'Toyota',\n",
       "  'model': 'Corolla',\n",
       "  'colour': 'Green',\n",
       "  'mileage': 599339,\n",
       "  'engineSize': 1.3}]"
      ]
     },
     "execution_count": 19,
     "metadata": {},
     "output_type": "execute_result"
    }
   ],
   "source": [
    "car_dao_wsaa.get_all_cars()"
   ]
  },
  {
   "cell_type": "code",
   "execution_count": 22,
   "metadata": {},
   "outputs": [
    {
     "name": "stdout",
     "output_type": "stream",
     "text": [
      "{'colour': 'Red', 'engineSize': 1.2, 'make': 'Renault', 'mileage': 69000, 'model': 'Clio', 'registration': '03-D-80248'}\n",
      "{'colour': 'Green', 'engineSize': 1.6, 'make': 'Toyota', 'mileage': 253789, 'model': 'Highlander', 'registration': '05-MO-17931'}\n",
      "{'colour': 'Blue', 'engineSize': 2.0, 'make': 'Mercedes', 'mileage': 12456, 'model': 'W124', 'registration': '05-WH-89101'}\n",
      "{'colour': 'Pink', 'engineSize': 1.6, 'make': 'Skoda', 'mileage': 259989, 'model': 'Kodiak', 'registration': '09-D-86793'}\n",
      "{'colour': 'Green', 'engineSize': 1.3, 'make': 'Toyota', 'mileage': 123389, 'model': 'Corolla', 'registration': '10-G-2334'}\n",
      "{'colour': 'Silver', 'engineSize': 1.4, 'make': 'Toyota', 'mileage': 130389, 'model': 'Corolla', 'registration': '10-WH-17931'}\n",
      "{'colour': 'Black', 'engineSize': 1.3, 'make': 'Toyota', 'mileage': 1234123, 'model': 'Corolla', 'registration': '11-MO-23431'}\n",
      "{'colour': 'Black', 'engineSize': 1.0, 'make': 'Ford', 'mileage': 125882, 'model': 'Ka', 'registration': '12-WH-123'}\n",
      "{'colour': 'Navy', 'engineSize': 1.6, 'make': 'Audi', 'mileage': 259989, 'model': 'A8', 'registration': '121-LH-890756'}\n",
      "{'colour': 'Blue', 'engineSize': 1.6, 'make': 'Ford', 'mileage': 253789, 'model': 'Mondeo', 'registration': '121-LM-17933'}\n",
      "{'colour': 'Silver', 'engineSize': 1.0, 'make': 'Ford', 'mileage': 325883, 'model': 'Ka', 'registration': '132-G-9923'}\n",
      "{'colour': 'Silver', 'engineSize': 1.5, 'make': 'Ford', 'mileage': 2343, 'model': 'Galaxy', 'registration': '132-MO-19323'}\n",
      "{'colour': 'Silver', 'engineSize': 1.3, 'make': 'Toyota', 'mileage': 55882, 'model': 'Corolla', 'registration': '171-G-39532'}\n",
      "{'colour': 'Black', 'engineSize': 1.0, 'make': 'Ford', 'mileage': 25882, 'model': 'Fiesta', 'registration': '171-MO-12533'}\n",
      "{'colour': 'Green', 'engineSize': 1.3, 'make': 'Toyota', 'mileage': 599339, 'model': 'Corolla', 'registration': '99-G-300'}\n"
     ]
    }
   ],
   "source": [
    "response_get = requests.get(\"http://127.0.0.1:5000/cars\")\n",
    "for car in response_get.json():\n",
    "    print(car)"
   ]
  },
  {
   "cell_type": "code",
   "execution_count": 14,
   "metadata": {},
   "outputs": [
    {
     "data": {
      "text/plain": [
       "'Error: Car with registration 05-MO-1222222 not found'"
      ]
     },
     "execution_count": 14,
     "metadata": {},
     "output_type": "execute_result"
    }
   ],
   "source": [
    "response_get_reg = requests.get(\"http://127.0.0.1:5000/cars/05-MO-1222222\")\n",
    "response_get_reg.text"
   ]
  },
  {
   "cell_type": "code",
   "execution_count": 12,
   "metadata": {},
   "outputs": [
    {
     "name": "stdout",
     "output_type": "stream",
     "text": [
      "{\n",
      "  \"error\": \"Car with registration 121-LM-17933 already exists in database\"\n",
      "}\n",
      "\n"
     ]
    }
   ],
   "source": [
    "car = {\n",
    "    \"colour\": \"Blue\",\n",
    "    \"engineSize\": 1.6,\n",
    "    \"make\": \"Ford\",\n",
    "    \"mileage\": 253789,\n",
    "    \"model\": \"Mondeo\",\n",
    "    \"registration\": \"121-LM-17933\"\n",
    "  }\n",
    "\n",
    "response = requests.post(\"http://127.0.0.1:5000/cars\", json=car)\n",
    "\n",
    "print(response.text)"
   ]
  }
 ],
 "metadata": {
  "kernelspec": {
   "display_name": "base",
   "language": "python",
   "name": "python3"
  },
  "language_info": {
   "codemirror_mode": {
    "name": "ipython",
    "version": 3
   },
   "file_extension": ".py",
   "mimetype": "text/x-python",
   "name": "python",
   "nbconvert_exporter": "python",
   "pygments_lexer": "ipython3",
   "version": "3.12.4"
  }
 },
 "nbformat": 4,
 "nbformat_minor": 2
}
