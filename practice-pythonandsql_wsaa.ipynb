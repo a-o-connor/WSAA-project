{
 "cells": [
  {
   "cell_type": "markdown",
   "metadata": {},
   "source": [
    "## Start the server\n",
    "````\n",
    "C:\\Users\\oconnora\\mysql-9.2.0-winx64\\bin\n",
    "λ mysqld --initialize-insecure --user=mysql\n",
    "\n",
    "C:\\Users\\oconnora\\mysql-9.2.0-winx64\\bin\n",
    "λ mysqld --console\n",
    "````\n",
    "\n",
    "## Importing a database\n",
    "````\n",
    "C:\\Users\\oconnora\\mysql-9.2.0-winx64\\bin\n",
    "mysql -u root\n",
    "\n",
    "mysql> CREATE DATABASE hospital;\n",
    "mysql> show databases;\n",
    "+--------------------+\n",
    "| Database           |\n",
    "+--------------------+\n",
    "| hospital           |\n",
    "| information_schema |\n",
    "| mysql              |\n",
    "| performance_schema |\n",
    "| school             |\n",
    "| sys                |\n",
    "| wsaa               |\n",
    "+--------------------+\n",
    "7 rows in set (0.00 sec)\n",
    "\n",
    "mysql> \\q\n",
    "Bye\n",
    "\n",
    "C:\\Users\\oconnora\\mysql-9.2.0-winx64\\bin\n",
    "λ mysql -u root -p hospital < \"C:\\Users\\oconnora\\Downloads\\hospital.sql\"\n",
    "\n",
    "````"
   ]
  },
  {
   "cell_type": "code",
   "execution_count": 1,
   "metadata": {},
   "outputs": [],
   "source": [
    "import mysql.connector"
   ]
  },
  {
   "cell_type": "code",
   "execution_count": 2,
   "metadata": {},
   "outputs": [
    {
     "name": "stdout",
     "output_type": "stream",
     "text": [
      "[('hospital',), ('information_schema',), ('lab1',), ('mysql',), ('performance_schema',), ('school',), ('sys',), ('wsaa',)]\n"
     ]
    }
   ],
   "source": [
    "#CREATE\n",
    "conn = mysql.connector.connect(\n",
    "    host=\"localhost\",\n",
    "    user=\"root\",\n",
    "    password=\"\"\n",
    ")\n",
    "cursor=conn.cursor()\n",
    "query = \"SHOW DATABASES\"\n",
    "cursor.execute(query)\n",
    "databases = cursor.fetchall()\n",
    "print(databases)"
   ]
  },
  {
   "cell_type": "code",
   "execution_count": 3,
   "metadata": {},
   "outputs": [
    {
     "name": "stdout",
     "output_type": "stream",
     "text": [
      "('car',)\n",
      "[('05-MO-17931', 'Toyota', 'Highlander', 'Green', 253789, 1.6), ('10-G-2334', 'Toyota', 'Corolla', 'Green', 123389, 1.3), ('10-WH-17931', 'Toyota', 'Corolla', 'Silver', 130389, 1.4), ('11-MO-23431', 'Toyota', 'Corolla', 'Black', 1234123, 1.3), ('12-WH-123', 'Ford', 'Ka', 'Black', 125882, 1.0), ('132-G-9923', 'Ford', 'Ka', 'Silver', 325883, 1.0), ('132-MO-19323', 'Ford', 'Galaxy', 'Silver', 2343, 1.5), ('171-G-39532', 'Toyota', 'Corolla', 'Silver', 55882, 1.3), ('171-MO-12533', 'Ford', 'Fiesta', 'Black', 25882, 1.0), ('99-G-300', 'Toyota', 'Corolla', 'Green', 599339, 1.3)]\n",
      "('person',)\n",
      "[(1, 'John', 23, 'M', datetime.date(2000, 1, 1), 1), (2, 'Tom', 64, 'M', datetime.date(1958, 3, 11), 0), (3, 'Mary', 12, 'F', datetime.date(2005, 4, 11), 1), (4, 'Alan', 12, 'M', datetime.date(2005, 11, 21), 1), (5, 'Pat', 29, 'M', datetime.date(1993, 3, 17), 0), (6, 'Shane', 40, 'M', datetime.date(1988, 7, 21), 0), (7, 'Shane', 14, 'M', datetime.date(2003, 6, 1), 1), (8, 'Alice', 24, 'F', datetime.date(1999, 3, 1), 1), (9, 'Pat', 37, 'F', datetime.date(1988, 4, 15), 0)]\n"
     ]
    }
   ],
   "source": [
    "#CREATE\n",
    "conn = mysql.connector.connect(\n",
    "    host=\"localhost\",\n",
    "    user=\"root\",\n",
    "    password=\"\",\n",
    "    database=\"lab1\"\n",
    ")\n",
    "\n",
    "cursor=conn.cursor()\n",
    "\n",
    "cursor.execute(\"SHOW TABLES\")\n",
    "tables = cursor.fetchall()\n",
    "\n",
    "for table in tables:\n",
    "    table_name = table[0]\n",
    "    select_query = f\"SELECT * FROM {table_name}\"\n",
    "    cursor.execute(select_query)\n",
    "    print(table)\n",
    "    print(cursor.fetchall())"
   ]
  },
  {
   "cell_type": "code",
   "execution_count": 7,
   "metadata": {},
   "outputs": [
    {
     "name": "stdout",
     "output_type": "stream",
     "text": [
      "Connected: True\n"
     ]
    },
    {
     "data": {
      "text/plain": [
       "[('05-MO-17931', 'Toyota', 'Highlander', 'Green', 253789, 1.6)]"
      ]
     },
     "execution_count": 7,
     "metadata": {},
     "output_type": "execute_result"
    }
   ],
   "source": [
    "conn = mysql.connector.connect(\n",
    "    host=\"localhost\",\n",
    "    user=\"root\",\n",
    "    password=\"\",\n",
    "    database=\"lab1\"\n",
    ")\n",
    "\n",
    "cursor=conn.cursor()\n",
    "print(\"Connected:\", conn.is_connected())  # Should be True\n",
    "\n",
    "car_reg = input(\"What registration is your car? \")\n",
    "\n",
    "query = \"SELECT * FROM CAR WHERE registration = %s\"\n",
    "cursor.execute(query, (car_reg,))\n",
    "cursor.fetchall()"
   ]
  },
  {
   "cell_type": "code",
   "execution_count": 10,
   "metadata": {},
   "outputs": [
    {
     "data": {
      "text/plain": [
       "[('05-MO-17931', 'Toyota', 'Highlander', 'Green', 253789, 1.6),\n",
       " ('10-G-2334', 'Toyota', 'Corolla', 'Green', 123389, 1.3),\n",
       " ('99-G-300', 'Toyota', 'Corolla', 'Green', 599339, 1.3)]"
      ]
     },
     "execution_count": 10,
     "metadata": {},
     "output_type": "execute_result"
    }
   ],
   "source": [
    "conn = mysql.connector.connect(\n",
    "    host=\"localhost\",\n",
    "    user=\"root\",\n",
    "    password=\"\",\n",
    "    database=\"lab1\"\n",
    ")\n",
    "\n",
    "cursor=conn.cursor()\n",
    "\n",
    "car_colour = input(\"What colour is your car? \")\n",
    "\n",
    "query = \"SELECT * FROM car WHERE colour = %s\"\n",
    "\n",
    "cursor.execute(query, (car_colour,))\n",
    "cursor.fetchall()"
   ]
  },
  {
   "cell_type": "code",
   "execution_count": 3,
   "metadata": {},
   "outputs": [
    {
     "data": {
      "text/plain": [
       "[{'registration': '05-MO-17931',\n",
       "  'make': 'Toyota',\n",
       "  'model': 'Highlander',\n",
       "  'colour': 'Green',\n",
       "  'mileage': 253789,\n",
       "  'engineSize': 1.6}]"
      ]
     },
     "execution_count": 3,
     "metadata": {},
     "output_type": "execute_result"
    }
   ],
   "source": [
    "import car_dao_wsaa\n",
    "car_dao_wsaa.get_car_by_reg(\"05-MO-17931\")"
   ]
  },
  {
   "cell_type": "code",
   "execution_count": 18,
   "metadata": {},
   "outputs": [
    {
     "data": {
      "text/plain": [
       "<module 'car_dao_wsaa' from 'c:\\\\Users\\\\oconnora\\\\Desktop\\\\compsci_data_analytics_hdip\\\\semester_3\\\\WSAA\\\\WSAA-project\\\\car_dao_wsaa.py'>"
      ]
     },
     "execution_count": 18,
     "metadata": {},
     "output_type": "execute_result"
    }
   ],
   "source": [
    "import importlib\n",
    "importlib.reload(car_dao_wsaa)"
   ]
  },
  {
   "cell_type": "code",
   "execution_count": 16,
   "metadata": {},
   "outputs": [
    {
     "ename": "IntegrityError",
     "evalue": "(1062, \"Duplicate entry '09-D-86793' for key 'car.PRIMARY'\")",
     "output_type": "error",
     "traceback": [
      "\u001b[1;31m---------------------------------------------------------------------------\u001b[0m",
      "\u001b[1;31mIntegrityError\u001b[0m                            Traceback (most recent call last)",
      "Cell \u001b[1;32mIn[16], line 10\u001b[0m\n\u001b[0;32m      1\u001b[0m car \u001b[38;5;241m=\u001b[39m {\n\u001b[0;32m      2\u001b[0m   \u001b[38;5;124m'\u001b[39m\u001b[38;5;124mregistration\u001b[39m\u001b[38;5;124m'\u001b[39m: \u001b[38;5;124m'\u001b[39m\u001b[38;5;124m09-D-86793\u001b[39m\u001b[38;5;124m'\u001b[39m,\n\u001b[0;32m      3\u001b[0m   \u001b[38;5;124m'\u001b[39m\u001b[38;5;124mmake\u001b[39m\u001b[38;5;124m'\u001b[39m: \u001b[38;5;124m'\u001b[39m\u001b[38;5;124mAudi\u001b[39m\u001b[38;5;124m'\u001b[39m,\n\u001b[1;32m   (...)\u001b[0m\n\u001b[0;32m      7\u001b[0m   \u001b[38;5;124m'\u001b[39m\u001b[38;5;124mengineSize\u001b[39m\u001b[38;5;124m'\u001b[39m: \u001b[38;5;241m1.6\u001b[39m\n\u001b[0;32m      8\u001b[0m   }\n\u001b[1;32m---> 10\u001b[0m car_dao_wsaa\u001b[38;5;241m.\u001b[39madd_car(car)\n",
      "File \u001b[1;32mc:\\Users\\oconnora\\Desktop\\compsci_data_analytics_hdip\\semester_3\\WSAA\\WSAA-project\\car_dao_wsaa.py:44\u001b[0m, in \u001b[0;36madd_car\u001b[1;34m(car)\u001b[0m\n\u001b[0;32m      0\u001b[0m <Error retrieving source code with stack_data see ipython/ipython#13598>\n",
      "File \u001b[1;32mc:\\Users\\oconnora\\AppData\\Local\\anaconda3\\Lib\\site-packages\\pymysql\\cursors.py:153\u001b[0m, in \u001b[0;36mCursor.execute\u001b[1;34m(self, query, args)\u001b[0m\n\u001b[0;32m    149\u001b[0m     \u001b[38;5;28;01mpass\u001b[39;00m\n\u001b[0;32m    151\u001b[0m query \u001b[38;5;241m=\u001b[39m \u001b[38;5;28mself\u001b[39m\u001b[38;5;241m.\u001b[39mmogrify(query, args)\n\u001b[1;32m--> 153\u001b[0m result \u001b[38;5;241m=\u001b[39m \u001b[38;5;28mself\u001b[39m\u001b[38;5;241m.\u001b[39m_query(query)\n\u001b[0;32m    154\u001b[0m \u001b[38;5;28mself\u001b[39m\u001b[38;5;241m.\u001b[39m_executed \u001b[38;5;241m=\u001b[39m query\n\u001b[0;32m    155\u001b[0m \u001b[38;5;28;01mreturn\u001b[39;00m result\n",
      "File \u001b[1;32mc:\\Users\\oconnora\\AppData\\Local\\anaconda3\\Lib\\site-packages\\pymysql\\cursors.py:322\u001b[0m, in \u001b[0;36mCursor._query\u001b[1;34m(self, q)\u001b[0m\n\u001b[0;32m    320\u001b[0m conn \u001b[38;5;241m=\u001b[39m \u001b[38;5;28mself\u001b[39m\u001b[38;5;241m.\u001b[39m_get_db()\n\u001b[0;32m    321\u001b[0m \u001b[38;5;28mself\u001b[39m\u001b[38;5;241m.\u001b[39m_clear_result()\n\u001b[1;32m--> 322\u001b[0m conn\u001b[38;5;241m.\u001b[39mquery(q)\n\u001b[0;32m    323\u001b[0m \u001b[38;5;28mself\u001b[39m\u001b[38;5;241m.\u001b[39m_do_get_result()\n\u001b[0;32m    324\u001b[0m \u001b[38;5;28;01mreturn\u001b[39;00m \u001b[38;5;28mself\u001b[39m\u001b[38;5;241m.\u001b[39mrowcount\n",
      "File \u001b[1;32mc:\\Users\\oconnora\\AppData\\Local\\anaconda3\\Lib\\site-packages\\pymysql\\connections.py:563\u001b[0m, in \u001b[0;36mConnection.query\u001b[1;34m(self, sql, unbuffered)\u001b[0m\n\u001b[0;32m    561\u001b[0m     sql \u001b[38;5;241m=\u001b[39m sql\u001b[38;5;241m.\u001b[39mencode(\u001b[38;5;28mself\u001b[39m\u001b[38;5;241m.\u001b[39mencoding, \u001b[38;5;124m\"\u001b[39m\u001b[38;5;124msurrogateescape\u001b[39m\u001b[38;5;124m\"\u001b[39m)\n\u001b[0;32m    562\u001b[0m \u001b[38;5;28mself\u001b[39m\u001b[38;5;241m.\u001b[39m_execute_command(COMMAND\u001b[38;5;241m.\u001b[39mCOM_QUERY, sql)\n\u001b[1;32m--> 563\u001b[0m \u001b[38;5;28mself\u001b[39m\u001b[38;5;241m.\u001b[39m_affected_rows \u001b[38;5;241m=\u001b[39m \u001b[38;5;28mself\u001b[39m\u001b[38;5;241m.\u001b[39m_read_query_result(unbuffered\u001b[38;5;241m=\u001b[39munbuffered)\n\u001b[0;32m    564\u001b[0m \u001b[38;5;28;01mreturn\u001b[39;00m \u001b[38;5;28mself\u001b[39m\u001b[38;5;241m.\u001b[39m_affected_rows\n",
      "File \u001b[1;32mc:\\Users\\oconnora\\AppData\\Local\\anaconda3\\Lib\\site-packages\\pymysql\\connections.py:825\u001b[0m, in \u001b[0;36mConnection._read_query_result\u001b[1;34m(self, unbuffered)\u001b[0m\n\u001b[0;32m    823\u001b[0m \u001b[38;5;28;01melse\u001b[39;00m:\n\u001b[0;32m    824\u001b[0m     result \u001b[38;5;241m=\u001b[39m MySQLResult(\u001b[38;5;28mself\u001b[39m)\n\u001b[1;32m--> 825\u001b[0m     result\u001b[38;5;241m.\u001b[39mread()\n\u001b[0;32m    826\u001b[0m \u001b[38;5;28mself\u001b[39m\u001b[38;5;241m.\u001b[39m_result \u001b[38;5;241m=\u001b[39m result\n\u001b[0;32m    827\u001b[0m \u001b[38;5;28;01mif\u001b[39;00m result\u001b[38;5;241m.\u001b[39mserver_status \u001b[38;5;129;01mis\u001b[39;00m \u001b[38;5;129;01mnot\u001b[39;00m \u001b[38;5;28;01mNone\u001b[39;00m:\n",
      "File \u001b[1;32mc:\\Users\\oconnora\\AppData\\Local\\anaconda3\\Lib\\site-packages\\pymysql\\connections.py:1199\u001b[0m, in \u001b[0;36mMySQLResult.read\u001b[1;34m(self)\u001b[0m\n\u001b[0;32m   1197\u001b[0m \u001b[38;5;28;01mdef\u001b[39;00m \u001b[38;5;21mread\u001b[39m(\u001b[38;5;28mself\u001b[39m):\n\u001b[0;32m   1198\u001b[0m     \u001b[38;5;28;01mtry\u001b[39;00m:\n\u001b[1;32m-> 1199\u001b[0m         first_packet \u001b[38;5;241m=\u001b[39m \u001b[38;5;28mself\u001b[39m\u001b[38;5;241m.\u001b[39mconnection\u001b[38;5;241m.\u001b[39m_read_packet()\n\u001b[0;32m   1201\u001b[0m         \u001b[38;5;28;01mif\u001b[39;00m first_packet\u001b[38;5;241m.\u001b[39mis_ok_packet():\n\u001b[0;32m   1202\u001b[0m             \u001b[38;5;28mself\u001b[39m\u001b[38;5;241m.\u001b[39m_read_ok_packet(first_packet)\n",
      "File \u001b[1;32mc:\\Users\\oconnora\\AppData\\Local\\anaconda3\\Lib\\site-packages\\pymysql\\connections.py:775\u001b[0m, in \u001b[0;36mConnection._read_packet\u001b[1;34m(self, packet_type)\u001b[0m\n\u001b[0;32m    773\u001b[0m     \u001b[38;5;28;01mif\u001b[39;00m \u001b[38;5;28mself\u001b[39m\u001b[38;5;241m.\u001b[39m_result \u001b[38;5;129;01mis\u001b[39;00m \u001b[38;5;129;01mnot\u001b[39;00m \u001b[38;5;28;01mNone\u001b[39;00m \u001b[38;5;129;01mand\u001b[39;00m \u001b[38;5;28mself\u001b[39m\u001b[38;5;241m.\u001b[39m_result\u001b[38;5;241m.\u001b[39munbuffered_active \u001b[38;5;129;01mis\u001b[39;00m \u001b[38;5;28;01mTrue\u001b[39;00m:\n\u001b[0;32m    774\u001b[0m         \u001b[38;5;28mself\u001b[39m\u001b[38;5;241m.\u001b[39m_result\u001b[38;5;241m.\u001b[39munbuffered_active \u001b[38;5;241m=\u001b[39m \u001b[38;5;28;01mFalse\u001b[39;00m\n\u001b[1;32m--> 775\u001b[0m     packet\u001b[38;5;241m.\u001b[39mraise_for_error()\n\u001b[0;32m    776\u001b[0m \u001b[38;5;28;01mreturn\u001b[39;00m packet\n",
      "File \u001b[1;32mc:\\Users\\oconnora\\AppData\\Local\\anaconda3\\Lib\\site-packages\\pymysql\\protocol.py:219\u001b[0m, in \u001b[0;36mMysqlPacket.raise_for_error\u001b[1;34m(self)\u001b[0m\n\u001b[0;32m    217\u001b[0m \u001b[38;5;28;01mif\u001b[39;00m DEBUG:\n\u001b[0;32m    218\u001b[0m     \u001b[38;5;28mprint\u001b[39m(\u001b[38;5;124m\"\u001b[39m\u001b[38;5;124merrno =\u001b[39m\u001b[38;5;124m\"\u001b[39m, errno)\n\u001b[1;32m--> 219\u001b[0m err\u001b[38;5;241m.\u001b[39mraise_mysql_exception(\u001b[38;5;28mself\u001b[39m\u001b[38;5;241m.\u001b[39m_data)\n",
      "File \u001b[1;32mc:\\Users\\oconnora\\AppData\\Local\\anaconda3\\Lib\\site-packages\\pymysql\\err.py:150\u001b[0m, in \u001b[0;36mraise_mysql_exception\u001b[1;34m(data)\u001b[0m\n\u001b[0;32m    148\u001b[0m \u001b[38;5;28;01mif\u001b[39;00m errorclass \u001b[38;5;129;01mis\u001b[39;00m \u001b[38;5;28;01mNone\u001b[39;00m:\n\u001b[0;32m    149\u001b[0m     errorclass \u001b[38;5;241m=\u001b[39m InternalError \u001b[38;5;28;01mif\u001b[39;00m errno \u001b[38;5;241m<\u001b[39m \u001b[38;5;241m1000\u001b[39m \u001b[38;5;28;01melse\u001b[39;00m OperationalError\n\u001b[1;32m--> 150\u001b[0m \u001b[38;5;28;01mraise\u001b[39;00m errorclass(errno, errval)\n",
      "\u001b[1;31mIntegrityError\u001b[0m: (1062, \"Duplicate entry '09-D-86793' for key 'car.PRIMARY'\")"
     ]
    }
   ],
   "source": [
    "car = {\n",
    "  'registration': '09-D-86793',\n",
    "  'make': 'Audi',\n",
    "  'model': 'A8',\n",
    "  'colour': 'Pink',\n",
    "  'mileage': 259989,\n",
    "  'engineSize': 1.6\n",
    "  }\n",
    "\n",
    "car_dao_wsaa.add_car(car)"
   ]
  },
  {
   "cell_type": "code",
   "execution_count": 17,
   "metadata": {},
   "outputs": [
    {
     "data": {
      "text/plain": [
       "'Car updated successfully'"
      ]
     },
     "execution_count": 17,
     "metadata": {},
     "output_type": "execute_result"
    }
   ],
   "source": [
    "car = {\n",
    "  'registration': '09-D-86793',\n",
    "  'make': 'Skoda',\n",
    "  'model': 'Octavia',\n",
    "  'colour': 'Pink',\n",
    "  'mileage': 259989,\n",
    "  'engineSize': 1.6\n",
    "  }\n",
    "\n",
    "car_dao_wsaa.update_car(car)"
   ]
  },
  {
   "cell_type": "code",
   "execution_count": 22,
   "metadata": {},
   "outputs": [
    {
     "data": {
      "text/plain": [
       "[{'registration': '03-D-80248',\n",
       "  'make': 'Renault',\n",
       "  'model': 'Clio',\n",
       "  'colour': 'Red',\n",
       "  'mileage': 69000,\n",
       "  'engineSize': 1.2},\n",
       " {'registration': '05-MO-17931',\n",
       "  'make': 'Toyota',\n",
       "  'model': 'Highlander',\n",
       "  'colour': 'Green',\n",
       "  'mileage': 253789,\n",
       "  'engineSize': 1.6},\n",
       " {'registration': '05-WH-89101',\n",
       "  'make': 'Mercedes',\n",
       "  'model': 'W124',\n",
       "  'colour': 'Blue',\n",
       "  'mileage': 12456,\n",
       "  'engineSize': 2.0},\n",
       " {'registration': '09-D-86793',\n",
       "  'make': 'Skoda',\n",
       "  'model': 'Octavia',\n",
       "  'colour': 'Pink',\n",
       "  'mileage': 259989,\n",
       "  'engineSize': 1.6},\n",
       " {'registration': '10-G-2334',\n",
       "  'make': 'Toyota',\n",
       "  'model': 'Corolla',\n",
       "  'colour': 'Green',\n",
       "  'mileage': 123389,\n",
       "  'engineSize': 1.3},\n",
       " {'registration': '10-WH-17931',\n",
       "  'make': 'Toyota',\n",
       "  'model': 'Corolla',\n",
       "  'colour': 'Silver',\n",
       "  'mileage': 130389,\n",
       "  'engineSize': 1.4},\n",
       " {'registration': '11-MO-23431',\n",
       "  'make': 'Toyota',\n",
       "  'model': 'Corolla',\n",
       "  'colour': 'Black',\n",
       "  'mileage': 1234123,\n",
       "  'engineSize': 1.3},\n",
       " {'registration': '12-WH-123',\n",
       "  'make': 'Ford',\n",
       "  'model': 'Ka',\n",
       "  'colour': 'Black',\n",
       "  'mileage': 125882,\n",
       "  'engineSize': 1.0},\n",
       " {'registration': '132-G-9923',\n",
       "  'make': 'Ford',\n",
       "  'model': 'Ka',\n",
       "  'colour': 'Silver',\n",
       "  'mileage': 325883,\n",
       "  'engineSize': 1.0},\n",
       " {'registration': '132-MO-19323',\n",
       "  'make': 'Ford',\n",
       "  'model': 'Galaxy',\n",
       "  'colour': 'Silver',\n",
       "  'mileage': 2343,\n",
       "  'engineSize': 1.5},\n",
       " {'registration': '171-G-39532',\n",
       "  'make': 'Toyota',\n",
       "  'model': 'Corolla',\n",
       "  'colour': 'Silver',\n",
       "  'mileage': 55882,\n",
       "  'engineSize': 1.3},\n",
       " {'registration': '171-MO-12533',\n",
       "  'make': 'Ford',\n",
       "  'model': 'Fiesta',\n",
       "  'colour': 'Black',\n",
       "  'mileage': 25882,\n",
       "  'engineSize': 1.0},\n",
       " {'registration': '99-G-300',\n",
       "  'make': 'Toyota',\n",
       "  'model': 'Corolla',\n",
       "  'colour': 'Green',\n",
       "  'mileage': 599339,\n",
       "  'engineSize': 1.3}]"
      ]
     },
     "execution_count": 22,
     "metadata": {},
     "output_type": "execute_result"
    }
   ],
   "source": [
    "car_dao_wsaa.get_all_cars()"
   ]
  },
  {
   "cell_type": "code",
   "execution_count": 27,
   "metadata": {},
   "outputs": [
    {
     "name": "stdout",
     "output_type": "stream",
     "text": [
      "GET request returns: [\n",
      "  {\n",
      "    \"colour\": \"Red\",\n",
      "    \"engineSize\": 1.2,\n",
      "    \"make\": \"Renault\",\n",
      "    \"mileage\": 69000,\n",
      "    \"model\": \"Clio\",\n",
      "    \"registration\": \"03-D-80248\"\n",
      "  },\n",
      "  {\n",
      "    \"colour\": \"Green\",\n",
      "    \"engineSize\": 1.6,\n",
      "    \"make\": \"Toyota\",\n",
      "    \"mileage\": 253789,\n",
      "    \"model\": \"Highlander\",\n",
      "    \"registration\": \"05-MO-17931\"\n",
      "  },\n",
      "  {\n",
      "    \"colour\": \"Blue\",\n",
      "    \"engineSize\": 2.0,\n",
      "    \"make\": \"Mercedes\",\n",
      "    \"mileage\": 12456,\n",
      "    \"model\": \"W124\",\n",
      "    \"registration\": \"05-WH-89101\"\n",
      "  },\n",
      "  {\n",
      "    \"colour\": \"Pink\",\n",
      "    \"engineSize\": 1.6,\n",
      "    \"make\": \"Skoda\",\n",
      "    \"mileage\": 259989,\n",
      "    \"model\": \"Octavia\",\n",
      "    \"registration\": \"09-D-86793\"\n",
      "  },\n",
      "  {\n",
      "    \"colour\": \"Green\",\n",
      "    \"engineSize\": 1.3,\n",
      "    \"make\": \"Toyota\",\n",
      "    \"mileage\": 123389,\n",
      "    \"model\": \"Corolla\",\n",
      "    \"registration\": \"10-G-2334\"\n",
      "  },\n",
      "  {\n",
      "    \"colour\": \"Silver\",\n",
      "    \"engineSize\": 1.4,\n",
      "    \"make\": \"Toyota\",\n",
      "    \"mileage\": 130389,\n",
      "    \"model\": \"Corolla\",\n",
      "    \"registration\": \"10-WH-17931\"\n",
      "  },\n",
      "  {\n",
      "    \"colour\": \"Black\",\n",
      "    \"engineSize\": 1.3,\n",
      "    \"make\": \"Toyota\",\n",
      "    \"mileage\": 1234123,\n",
      "    \"model\": \"Corolla\",\n",
      "    \"registration\": \"11-MO-23431\"\n",
      "  },\n",
      "  {\n",
      "    \"colour\": \"Black\",\n",
      "    \"engineSize\": 1.0,\n",
      "    \"make\": \"Ford\",\n",
      "    \"mileage\": 125882,\n",
      "    \"model\": \"Ka\",\n",
      "    \"registration\": \"12-WH-123\"\n",
      "  },\n",
      "  {\n",
      "    \"colour\": \"Silver\",\n",
      "    \"engineSize\": 1.0,\n",
      "    \"make\": \"Ford\",\n",
      "    \"mileage\": 325883,\n",
      "    \"model\": \"Ka\",\n",
      "    \"registration\": \"132-G-9923\"\n",
      "  },\n",
      "  {\n",
      "    \"colour\": \"Silver\",\n",
      "    \"engineSize\": 1.5,\n",
      "    \"make\": \"Ford\",\n",
      "    \"mileage\": 2343,\n",
      "    \"model\": \"Galaxy\",\n",
      "    \"registration\": \"132-MO-19323\"\n",
      "  },\n",
      "  {\n",
      "    \"colour\": \"Silver\",\n",
      "    \"engineSize\": 1.3,\n",
      "    \"make\": \"Toyota\",\n",
      "    \"mileage\": 55882,\n",
      "    \"model\": \"Corolla\",\n",
      "    \"registration\": \"171-G-39532\"\n",
      "  },\n",
      "  {\n",
      "    \"colour\": \"Black\",\n",
      "    \"engineSize\": 1.0,\n",
      "    \"make\": \"Ford\",\n",
      "    \"mileage\": 25882,\n",
      "    \"model\": \"Fiesta\",\n",
      "    \"registration\": \"171-MO-12533\"\n",
      "  },\n",
      "  {\n",
      "    \"colour\": \"Green\",\n",
      "    \"engineSize\": 1.3,\n",
      "    \"make\": \"Toyota\",\n",
      "    \"mileage\": 599339,\n",
      "    \"model\": \"Corolla\",\n",
      "    \"registration\": \"99-G-300\"\n",
      "  }\n",
      "]\n",
      "\n",
      "GET 12-MO-23431 request returns: []\n",
      "\n"
     ]
    }
   ],
   "source": [
    "#Run this cell while server_cars is running\n",
    "import requests\n",
    "\n",
    "response_get = requests.get(\"http://127.0.0.1:5000/cars\")\n",
    "response_get_reg = requests.get(\"http://127.0.0.1:5000/cars/12-MO-23431\")\n",
    "print(f\"GET request returns: {response_get.text}\\nGET 12-MO-23431 request returns: {response_get_reg.text}\")"
   ]
  },
  {
   "cell_type": "code",
   "execution_count": 30,
   "metadata": {},
   "outputs": [
    {
     "name": "stdout",
     "output_type": "stream",
     "text": [
      "<Response [200]>\n"
     ]
    }
   ],
   "source": [
    "car = {\n",
    "    \"colour\": \"Blue\",\n",
    "    \"engineSize\": 1.6,\n",
    "    \"make\": \"Ford\",\n",
    "    \"mileage\": 253789,\n",
    "    \"model\": \"Mondeo\",\n",
    "    \"registration\": \"121-LM-17933\"\n",
    "  }\n",
    "response = requests.put(\"http://127.0.0.1:5000/cars\", json=car)\n",
    "\n",
    "print(response)"
   ]
  }
 ],
 "metadata": {
  "kernelspec": {
   "display_name": "base",
   "language": "python",
   "name": "python3"
  },
  "language_info": {
   "codemirror_mode": {
    "name": "ipython",
    "version": 3
   },
   "file_extension": ".py",
   "mimetype": "text/x-python",
   "name": "python",
   "nbconvert_exporter": "python",
   "pygments_lexer": "ipython3",
   "version": "3.12.4"
  }
 },
 "nbformat": 4,
 "nbformat_minor": 2
}
